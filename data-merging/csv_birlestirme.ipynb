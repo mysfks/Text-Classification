{
 "cells": [
  {
   "cell_type": "code",
   "execution_count": 1,
   "metadata": {},
   "outputs": [],
   "source": [
    "import pandas as pd\n",
    "import random"
   ]
  },
  {
   "cell_type": "code",
   "execution_count": 2,
   "metadata": {},
   "outputs": [],
   "source": [
    "dosya_listesi = ['trt/spor.csv', 'trt/saglik.csv', 'trt/egitim.csv','trt/ekonomi.csv','trt/kultur-sanat.csv','trt/bilim-teknoloji.csv']\n",
    "birlestirilecek_sutunlar = ['Kategori', 'Başlık', 'İçerik']"
   ]
  },
  {
   "cell_type": "code",
   "execution_count": null,
   "metadata": {},
   "outputs": [],
   "source": [
    "tum_veri = []\n",
    "for dosya in dosya_listesi:\n",
    "    df = pd.read_csv(dosya)\n",
    "    tum_veri.extend(df[birlestirilecek_sutunlar].values.tolist())"
   ]
  },
  {
   "cell_type": "code",
   "execution_count": null,
   "metadata": {},
   "outputs": [],
   "source": [
    "random.shuffle(tum_veri)"
   ]
  },
  {
   "cell_type": "code",
   "execution_count": null,
   "metadata": {},
   "outputs": [],
   "source": [
    "yeni_df = pd.DataFrame(tum_veri, columns=birlestirilecek_sutunlar)\n",
    "yeni_df.to_csv('trt/karisik_veri.csv', index=False)"
   ]
  }
 ],
 "metadata": {
  "kernelspec": {
   "display_name": "Python 3",
   "language": "python",
   "name": "python3"
  },
  "language_info": {
   "codemirror_mode": {
    "name": "ipython",
    "version": 3
   },
   "file_extension": ".py",
   "mimetype": "text/x-python",
   "name": "python",
   "nbconvert_exporter": "python",
   "pygments_lexer": "ipython3",
   "version": "3.12.0"
  }
 },
 "nbformat": 4,
 "nbformat_minor": 2
}

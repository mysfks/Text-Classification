{
 "cells": [
  {
   "cell_type": "code",
   "execution_count": 13,
   "metadata": {},
   "outputs": [],
   "source": [
    "from pyspark import SparkContext"
   ]
  },
  {
   "cell_type": "code",
   "execution_count": 14,
   "metadata": {},
   "outputs": [],
   "source": [
    "#sc.stop()"
   ]
  },
  {
   "cell_type": "code",
   "execution_count": 15,
   "metadata": {},
   "outputs": [],
   "source": [
    "sc = SparkContext(master=\"local[2]\")"
   ]
  },
  {
   "cell_type": "code",
   "execution_count": 16,
   "metadata": {},
   "outputs": [
    {
     "data": {
      "text/html": [
       "\n",
       "        <div>\n",
       "            <p><b>SparkContext</b></p>\n",
       "\n",
       "            <p><a href=\"http://mysfks:4040\">Spark UI</a></p>\n",
       "\n",
       "            <dl>\n",
       "              <dt>Version</dt>\n",
       "                <dd><code>v3.5.1</code></dd>\n",
       "              <dt>Master</dt>\n",
       "                <dd><code>local[2]</code></dd>\n",
       "              <dt>AppName</dt>\n",
       "                <dd><code>pyspark-shell</code></dd>\n",
       "            </dl>\n",
       "        </div>\n",
       "        "
      ],
      "text/plain": [
       "<SparkContext master=local[2] appName=pyspark-shell>"
      ]
     },
     "execution_count": 16,
     "metadata": {},
     "output_type": "execute_result"
    }
   ],
   "source": [
    "sc # python 3.12.0 spark 3.5.1"
   ]
  },
  {
   "cell_type": "code",
   "execution_count": 17,
   "metadata": {},
   "outputs": [],
   "source": [
    "from pyspark.sql import SparkSession"
   ]
  },
  {
   "cell_type": "code",
   "execution_count": 18,
   "metadata": {},
   "outputs": [],
   "source": [
    "spark = SparkSession.builder \\\n",
    "    .appName(\"TextClassifierwithPySpark\") \\\n",
    "    .config(\"spark.driver.memory\", \"4g\") \\\n",
    "    .config(\"spark.executor.memory\", \"4g\") \\\n",
    "    .config(\"spark.executor.cores\", \"2\") \\\n",
    "    .getOrCreate()\n",
    "\n",
    "spark.sparkContext.setLogLevel(\"DEBUG\")\n"
   ]
  },
  {
   "cell_type": "code",
   "execution_count": 19,
   "metadata": {},
   "outputs": [],
   "source": [
    "df = spark.read.csv(\"trt/karisik_veri.csv\",header=True,inferSchema=True)"
   ]
  },
  {
   "cell_type": "code",
   "execution_count": 20,
   "metadata": {},
   "outputs": [
    {
     "name": "stdout",
     "output_type": "stream",
     "text": [
      "+---------------+--------------------+--------------------+\n",
      "|       Kategori|              Başlık|              İçerik|\n",
      "+---------------+--------------------+--------------------+\n",
      "|           Spor|Hakkarigücü Kadın...|Turkcell Kadın Fu...|\n",
      "|Bilim Teknoloji|Uzay raporu: Mars...|Hakemli bilimsel ...|\n",
      "|         Sağlık|Gaziantep Şehir H...|Gaziantep Şehir H...|\n",
      "|         Sağlık|Türkiye sınırın d...|Fırat Kalkanı Har...|\n",
      "|        Ekonomi|3,2 milyar liralı...|Aile ve Sosyal Hi...|\n",
      "|           Spor|Gençler Kılıç Dün...|Eskrimde, Gençler...|\n",
      "|         Sağlık|\"Gıda mühendisind...|\"Mutfakta yapılan...|\n",
      "|           Spor|Michael Schumache...|Formula 1'in ünlü...|\n",
      "|         Eğitim|\"Türkiye ile Güne...|Milli Eğitim Baka...|\n",
      "|     ÖZEL HABER|7 Güzel Adam'ın b...|7 Güzel Adam'ın b...|\n",
      "|         Sağlık|DSÖ, COVID-19'un ...|Dünya Sağlık Örgü...|\n",
      "|           Spor|Kupada son çeyrek...|Ziraat Türkiye Ku...|\n",
      "|         Eğitim|Meslek liselerind...|Milli Eğitim Baka...|\n",
      "|   Kültür-Sanat|Dünyaca ünlü İngi...|Dünyaca ünlü İngi...|\n",
      "|           Spor|Fenerbahçe 90+4’t...|Trendyol Süper Li...|\n",
      "|        Ekonomi|Bakan Şimşek: KİT...|Hazine ve Maliye ...|\n",
      "|Bilim Teknoloji|\"Salmonellayı tes...|\"Çanakkale Onseki...|\n",
      "|           Spor|NBA'de gecenin to...|\"Amerikan Basketb...|\n",
      "|           Spor|Yarım asırlık Mar...|Trendyol 1. Lig'i...|\n",
      "|           Spor|Ajax galibiyeti h...|Tarihinin en başa...|\n",
      "+---------------+--------------------+--------------------+\n",
      "only showing top 20 rows\n",
      "\n"
     ]
    }
   ],
   "source": [
    "df.show()"
   ]
  },
  {
   "cell_type": "code",
   "execution_count": 21,
   "metadata": {},
   "outputs": [
    {
     "name": "stdout",
     "output_type": "stream",
     "text": [
      "+---------------+--------------------+-----+\n",
      "|       Kategori|              İçerik|count|\n",
      "+---------------+--------------------+-----+\n",
      "|   Kültür-Sanat|Karabük'ün tarihi...|    1|\n",
      "|   Kültür-Sanat|\"TRT Belgesel eki...|    1|\n",
      "|   Kültür-Sanat|\"Ünlü Fransız res...|    1|\n",
      "|        Ekonomi|\"Depremlerden etk...|    1|\n",
      "|        Ekonomi|Merkez Bankası, P...|    1|\n",
      "|     ÖZEL HABER|Telafi eğitiminin...|    1|\n",
      "|         Eğitim|Kayseri İl Tüketi...|    1|\n",
      "|         Eğitim|Milli Eğitim Baka...|    1|\n",
      "|   Kültür-Sanat|Turizmin başkenti...|    1|\n",
      "|         Sağlık|Zayıflama çayları...|    1|\n",
      "|         Eğitim|Milli Eğitim Baka...|    1|\n",
      "|   Kültür-Sanat|Karabük'ün Eskipa...|    1|\n",
      "|Bilim Teknoloji|\"Nobel ödüllü bil...|    1|\n",
      "|           Spor|MKE Ankaragücü, T...|    1|\n",
      "|   Kültür-Sanat|2 milyon kitaba e...|    1|\n",
      "|         Sağlık|\"COVID-19'un Omic...|    1|\n",
      "|        Ekonomi|İşsizlik Sigortas...|    1|\n",
      "|     ÖZEL HABER|Candaş Şişman... ...|    2|\n",
      "|        Ekonomi|Emtia piyasası, g...|    1|\n",
      "|        Ekonomi|Ticaret Bakanlığı...|    1|\n",
      "+---------------+--------------------+-----+\n",
      "only showing top 20 rows\n",
      "\n"
     ]
    }
   ],
   "source": [
    "df.groupBy('Kategori','İçerik').count().show()"
   ]
  },
  {
   "cell_type": "code",
   "execution_count": 22,
   "metadata": {},
   "outputs": [
    {
     "data": {
      "text/plain": [
       "Kategori\n",
       "Spor                                                                                                                                                                                                 4974\n",
       "Eğitim                                                                                                                                                                                               4931\n",
       "Sağlık                                                                                                                                                                                               4742\n",
       "Ekonomi                                                                                                                                                                                              4741\n",
       "Kültür-Sanat                                                                                                                                                                                         4690\n",
       "Bilim Teknoloji                                                                                                                                                                                      4689\n",
       "ÖZEL HABER                                                                                                                                                                                            610\n",
       "DOSYA HABER                                                                                                                                                                                           293\n",
       "Uzmanlar                                                                                                                                                                                                3\n",
       "Ortalama süre 6 dakikadan 2                                                                                                                                                                             2\n",
       "Bugün itibarıyla Togg'da çekiliş yapılmayacak. Sipariş ekranları tüm bireysel kullanıcılar için açık olacak.\"                                                                                           2\n",
       "Peki                                                                                                                                                                                                    2\n",
       "Dünyada ses getiren sosyal sorumluluk projeleri ödüllendirildi. Törende Yusuf İslam da Yaşam Boyu Başarı Ödülünü aldı.\"                                                                                 2\n",
       "Türkiye                                                                                                                                                                                                 2\n",
       "Koronavirüs için oluşturulan yoğun bakım üniteleri birer birer kapanıyor. Tedavi gören hastalar ise genelde aşı olmayanlardan oluşuyor.\"                                                                1\n",
       "Etkinliğin teması ise Cumhuriyetin 100'üncü yılından ilhamla 'Köklü izler                                                                                                                               1\n",
       "Güneş sistemini içinde barındıran Samanyolu galaksisinde                                                                                                                                                1\n",
       "sınavı ne zaman yapılacak? Ayrıntılar haberimizde…\"                                                                                                                                                     1\n",
       "Finansal istikrarı güçlendirici adımlar hayata geçiriliyor. Banka                                                                                                                                       1\n",
       "ÖSYM Başkanı Halis Aygün'ün  yaptığı açıklamaya göre ALES sonuçları bugün açıklanacak.  2020 ALES sonuç sorgulama…\"                                                                                     1\n",
       "Kültür ve Turizm Bakanlığı'nın düzenlediği Uluslararası 4. Efes Opera ve Bale Festivali kapsamında sergilenen Carmen                                                                                    1\n",
       "Bilim Kurulu Üyesi Prof. Dr. Alper Şener                                                                                                                                                                1\n",
       "Ancak insanoğlu bir B planını devreye soktu. Çip teknolojisi alanındaki çalışmaları                                                                                                                     1\n",
       "Bandırma Füze Kulübü ve Aslan Hürkuş: Görevimiz Gökbey sinemaseverlerle buluştu. Öte yandan TRT ortak yapımı animasyon filmi Tay'ın da gösterimi sürüyor.\"                                              1\n",
       "Kapalı ortamların sık sık havalandırılması gerektiğini söyleyen uzmanlar                                                                                                                                1\n",
       "81 ile gönderilen broşürde ilaçların nasıl kullanılacağı anlatıldı.\"                                                                                                                                    1\n",
       "bağışıklığı düzenliyor                                                                                                                                                                                  1\n",
       "Dizinin galası                                                                                                                                                                                          1\n",
       " Nasıl eğitimlerden geçiyorlar? Türkiye'nin ilk uzay yolcukları merak edilenleri TRT Haber'de yanıtladı.\"                                                                                               1\n",
       "Bu düşüşteki en büyük etken erken tanı ve gelişen tedavi yöntemleri.\"                                                                                                                                   1\n",
       "Türk sineması için 40 yılı aşkın süre verdiği mücadeleyle tanınan Uçakan                                                                                                                                1\n",
       "Velilere “Kaygılarınızı öğrencilerin yanında konuşmayın” dedi.\"                                                                                                                                         1\n",
       "Çalışmalarını defterlere ve bez çantalara da aktaran genç                                                                                                                                               1\n",
       "Türk ve dünya sinemacılarını buluşturan Forum'da ödüller sahiplerini buldu. Kurgu aşamasındaki projelere verilen 4 ödülün 3'ü TRT'nin oldu.\"                                                            1\n",
       "Çekilişte Togg almaya hak kazanamayanların ön sipariş bedellerinin iade süreci tamamlandı.\"                                                                                                             1\n",
       "200 yolcuyu taşıyabilen araç                                                                                                                                                                            1\n",
       "Sineklerin yoğun olduğu bölgelerde su birikintilerinin kurutulması önerildi.\"                                                                                                                           1\n",
       "Oluşturulan yasa teklifi ile internet bağlantılı cihazlar ve yazılımların tüketiciler için daha güvenli hale getirilmesi amaçlanıyor. Kurallara uymayan şirketlere                                      1\n",
       "18 milyon öğrenci üç haftalık tatile giriyor. İlkokul ve ortaokul öğrencileri karnelerini dijital ortamda alacak. Lise öğrencileri ise ilk dönem karne almayacak.\"                                      1\n",
       "\"\"Nomadland\"\" adlı film damga vurdu.\"                                                                                                                                                                   1\n",
       "Ardından televizyonlar                                                                                                                                                                                  1\n",
       "Çağrı merkezi çalışanları Kurban Bayramı'nda da ailelerinden uzakta görev başında...\"                                                                                                                   1\n",
       "Festivalde                                                                                                                                                                                              1\n",
       "Basit belirtilerin ciddi hastalıkların habercisi olabileceği vurgulanıyor.\"                                                                                                                             1\n",
       "Dünya Müzikleri Topluluğunu kurdu                                                                                                                                                                       1\n",
       "Sanatçı Seher Çelik şimdi de ilk Single'ı \"\"Hayat\"\" şarkısı ile gündemde.\"                                                                                                                              1\n",
       "Selçuklulardan kalma mezar taşları                                                                                                                                                                      1\n",
       "Hatay'da şebeke suyunun tedbiren bu dönemde içme suyu olarak kullanılmaması konusunda uyardı.\"                                                                                                          1\n",
       "Galatasaray'ı konuk edecek.\"                                                                                                                                                                            1\n",
       "Birçok yerde adı yaşatılan Aybüke Öğretmen'in hayatı TRT ortak yapımıyla beyaz perdeye taşındı. Genç öğretmenin ilk görev yeri Batman'da                                                                1\n",
       "harcamalar kısılarak en aza indirilecek. Uzmanlar yapılacak tasarrufların dezenflasyon sürecine önemli katkı sağlayacağını ifade etti.\"                                                                 1\n",
       "'LGS Tercih Robotu' eba.gov.tr üzerinden erişime açıldı.\"                                                                                                                                               1\n",
       "Bu operasyon                                                                                                                                                                                            1\n",
       "Toplantılar aralık ayı boyunca devam edecek. Peki                                                                                                                                                       1\n",
       "Bugün Yükseköğretim Kurumları Sınavı'nın ilk oturumu                                                                                                                                                    1\n",
       "Koronavirüs önlemleri gölgesinde gerçekleşecek festivalde TRT ortak yapımı \"\"Klondike\"\" filmi de izleyiciyle buluşacak.\"                                                                                1\n",
       "Zaman zaman ders esnasında ilgileri başta telefon ve televizyon olmak üzere başka yönlere kayabiliyor. Çocukların derslerden uzaklaşmaması için onlara duygusal alan tanınması tavsiye ediliyor.\"       1\n",
       "TRT Haber                                                                                                                                                                                               1\n",
       "Uzmanlara göre hastalığı geçirmek aşı tercihinde kriter değil. 6 ayı dolduranlar istedikleri aşıyı seçebilir.\"                                                                                          1\n",
       "haziran ayında başlatılan güçlü parasal sıkılaştırma ile sürdürüldüğü belirtildi.\"                                                                                                                      1\n",
       "Denemeleri başarılı olmadı belki                                                                                                                                                                        1\n",
       "Kurul Whatsapp                                                                                                                                                                                          1\n",
       "Sanat sezonu 1 Eylül'de başlayacak. Yeni sezonda salonlar koronavirüs önlemlerine göre düzenlenecek.\"                                                                                                   1\n",
       "Paylaşılan görselde uçağın büyük ölçüde tamamlandığı görüldü.\"                                                                                                                                          1\n",
       "Farklı ülkelerle Türk müziği arasında kültürel bağlar güçlenecek.\"                                                                                                                                      1\n",
       "Gerekçe                                                                                                                                                                                                 1\n",
       "Melnykov                                                                                                                                                                                                1\n",
       "Şien kentinde                                                                                                                                                                                           1\n",
       "Bu durum                                                                                                                                                                                                1\n",
       "Deneyler                                                                                                                                                                                                1\n",
       "Projeye başvuranların sayısı 175 bini aştı.\"                                                                                                                                                            1\n",
       "Kışla                                                                                                                                                                                                   1\n",
       "Arama motoru Google                                                                                                                                                                                     1\n",
       "Kan bağışında dünya rekortmeni Uşaklı Emin Şahin'e Kızılay bir kez daha plaketle teşekkür etti. Rekortmen bağışçı plaket töreninin ardından kan bağışlamayı ihmal etmedi.\"                              1\n",
       "5-1 mağlup etti.\"                                                                                                                                                                                       1\n",
       "Sahnede “Seneye Bir Gün” oyunu vardı. Atatürk Kültür Merkezi'ndeki açılış ise heyecanla bekleniyor.\"                                                                                                    1\n",
       "Böylelikle Cumhuriyet tarihinde ilk kez bir İHA                                                                                                                                                         1\n",
       "Kartal Doktor Lütfi Kırdar Şehir Hastanesi İnme Merkezi'nde dakikalar içinde müdahale edilmesiyle eski fonksiyonlarını geri kazandı. O anları bir sağlık personeli kaydetti.\"                           1\n",
       "\"\"Finansal istikrarı pekiştirmeyi ve istikrarlı büyümeyi hedefliyoruz\"\" dedi. Yeni ekonomi programının vatandaşların hayatına                                                                           1\n",
       "Rafadan Tayfa: Hayrimatör büyük beğeni topluyor. 29 Aralık’ta vizyona giren TRT ortak yapımı çizgi filmi toplam 941 bin 604 kişi izledi.\"                                                               1\n",
       "İngiltere’de yapılan bilimsel çalışmada                                                                                                                                                                 1\n",
       "Fırlatma aşaması geride kaldı. 1                                                                                                                                                                        1\n",
       "Kurulacak portal aracılığıyla hastaların muayene için hangi bölüme gideceğini sistem belirleyecek. Böylelikle polikliniklere başvurularda yaşanan karışıklığın önüne geçilecek.\"                        1\n",
       "Usta oyuncu yarın İzmir'de düzenlenecek cenaze töreninin ardından toprağa verilecek.\"                                                                                                                   1\n",
       "Kripto paralar yatırımlara                                                                                                                                                                              1\n",
       "2-1 mağlup etti. Adana ekibi                                                                                                                                                                            1\n",
       "üstü vatandaşların taziye                                                                                                                                                                               1\n",
       "Şırnak'ta ayrıca 8 bin öğretmen katılımıyla \"\"Duy Beni Projesi\"\" başlatıldı.\"                                                                                                                           1\n",
       "Japon bilim insanları                                                                                                                                                                                   1\n",
       "mağaralar bulundu. İçine ilk kez girilen 3 katlı mağaralara dağcılık teknikleriyle ulaşıldı.\"                                                                                                           1\n",
       "ABD Enerji Bakanlığı'nın yeni istihbarat raporunda                                                                                                                                                      1\n",
       "TRT tarafından hazırlanan \"\"Müzikli Bir Göç Masalı\"\" adlı belgesel TRT 2 ekranlarında yayınlandı.\"                                                                                                      1\n",
       "Takımlarını havalimanında karşılayan taraftarlar                                                                                                                                                        1\n",
       "Siyah beyazlıların sezon başında Manchester United'dan kadroya katılan savunma oyuncularından Eric Bailly                                                                                               1\n",
       "Kocaeli Derince Eğitim ve Araştırma Hastanesinde test edilen sistem                                                                                                                                     1\n",
       "İşte bu noktada ailelerin tutumu büyük önem kazanıyor.\"                                                                                                                                                 1\n",
       "üniversite diplomasını                                                                                                                                                                                  1\n",
       "Galibiyetin golleri Ferdi Kadıoğlu                                                                                                                                                                      1\n",
       "Gribal enfeksiyon geçirenlerin aspirin kullanması Reye sendromuna yol açabiliyor.\"                                                                                                                      1\n",
       "Müzede                                                                                                                                                                                                  1\n",
       "hem kompozit hem polimer baskı yapabilen yerli 3 boyutlu yazıcı geliştirdi. Bu yazıcı                                                                                                                   1\n",
       "Değişiklikler                                                                                                                                                                                           1\n",
       "Türkiye Uzay Ajansı Başkanı Serdar Hüseyin Yıldırım detayları TRT Haber'e anlattı.\"                                                                                                                     1\n",
       "Öte yandan depremlerin Türkiye ekonomisine maliyeti 104 milyar dolar oldu.\"                                                                                                                             1\n",
       "Haritada çarpma havzaları                                                                                                                                                                               1\n",
       "Yoğun bakım servisinde tedavi gören koronavirüs hastaları                                                                                                                                               1\n",
       "YKS tercihleri 5 Ağustos'ta başlıyor.\"                                                                                                                                                                  1\n",
       "Trabzon'da da beyin ölümü gerçekleşen bir kadının organları 7 hastaya nakledilecek.\"                                                                                                                    1\n",
       "Güvenç'in naaşı                                                                                                                                                                                         1\n",
       "1-1 berabere kaldı.\"                                                                                                                                                                                    1\n",
       "20'lik düşüş söz konusu. Uzmanlar bu düşüş seyrinin devam etmesi için tedbirleri işaret ediyor. Önlemlerin                                                                                              1\n",
       "İstanbul Atatürk Kültür Merkezi'nde galası yapılan film izleyenlerden tam not aldı.\"                                                                                                                    1\n",
       "Yaklaşık 2 milyon konuttan kiralık olanlar tespit edilecek. Beyanname vermeyen mükelleflere işlem yapılacak.\"                                                                                           1\n",
       "17 Aralık'a kadar görülebilecek.\"                                                                                                                                                                       1\n",
       "Uzmanlar özellikle hamileleri bu ürünlerin kullanımı konusunda uyarıyor. Vücuda giren zararlı kimyasallar                                                                                               1\n",
       "Türkiye'nin küresel düzeyde üst sıralardaki konumunu koruduğunu vurgulayan Yılmaz milli gelire ilişkin de \"\"Tarihimizde ilk defa bir trilyon dolar seviyesini geçtik\"\" dedi.\"                           1\n",
       "Yarın itibarıyla ise kurum ve bakanlık bütçelerinin görüşmelerine geçilecek.\"                                                                                                                           1\n",
       "Asrın deprem felaketinden sonra inşaat sektöründe de bu yeni teknolojiye talebin arttığı belirtiliyor. Peki dijital ikiz teknolojisinin kullanım alanları ve faydaları neler?                           1\n",
       "Dünyayı bu açıdan neler bekliyor?\"                                                                                                                                                                      1\n",
       "NASA’nın uzay aracı Parker                                                                                                                                                                              1\n",
       "Tadı elmaya benzetilen meyvenin faydaları saymakla bitmiyor.\"                                                                                                                                           1\n",
       "başöğretmenlik eğitim programı için başvurular yarın sona eriyor. Başvuruları tamamlanan adayların eğitimleri 18 Temmuz'da başlayacak.\"                                                                 1\n",
       "\"\"Tedbirler okul bazlı olmak kaydıyla yerel yönetimler tarafından belirlenecek\"\" dedi.\"                                                                                                                 1\n",
       "Bu dönemde                                                                                                                                                                                              1\n",
       "Tekin                                                                                                                                                                                                   1\n",
       "Uzmanlar \"\"İstemediğiniz bölüme bile mutlaka kayıt yaptırın                                                                                                                                             1\n",
       "Kayıt yaptırmayan adayların bir sonraki yıl ortaöğretim başarı puanları düşüyor.                                                                                                                        1\n",
       "Koronavirüs kaynaklı yoğun bakım yatışlarında da yarı yarıya azalma var.\"                                                                                                                               1\n",
       "Ödemeler 5 Nisan'a kadar yapılacak. Yaklaşık 16 milyon emeklinin ikramiyeleri                                                                                                                           1\n",
       "Sanayi ve Teknoloji Bakanı Mehmet Fatih Kacır                                                                                                                                                           1\n",
       "Diş kayıplarının en büyük nedeni ise salgında stres nedeniyle diş sıkma alışkanlığının artması oldu.\"                                                                                                   1\n",
       "duyuracağız.\"\" dedi.\"                                                                                                                                                                                   1\n",
       "Ama çekinen ve aşıyı reddedenlerin oranı da az değil. Uzmanlar aşının mutlaka yaptırılmasını öneriyor.\"                                                                                                 1\n",
       "Eylül'deki festivalde                                                                                                                                                                                   1\n",
       "Bu kişilerin büyük bölümünü hatırlatma dozunu ihmal edenler oluşturuyor. Uzmanlar                                                                                                                       1\n",
       "Açıklanan son haftalık haritada                                                                                                                                                                         1\n",
       "Yeni açıklanan eylül ayı enflasyon verilerinin ardından                                                                                                                                                 1\n",
       "İslam dünyasını birleştirme çabası ve Kudüs’ü 88 yıl sonra geri kazanması ile taçlanan hayatı televizyon dizisinde anlatılacak.\"                                                                        1\n",
       "Düzenleme ile ilgili çalışmalar sürüyor. Peki kimler birinci derece memur                                                                                                                               1\n",
       "Erkeklerde en çok akciğer kanseri                                                                                                                                                                       1\n",
       "Tedavisi hala süren Yalçın                                                                                                                                                                              1\n",
       "Türkiye'nin koronavirüsle mücadelede dünyada en fazla aşı yapan 7. ülke olduğunu belirterek                                                                                                             1\n",
       "Uzmanlara göre tek doz kullanım antikor oluşumunu azaltıyor. Kısa aralıkla yapılan iki doz ise aşının koruyuculuk süresini düşürüyor. En ideal aşılama takvimi                                          1\n",
       "kurulan \"\"Kornea Bankası\"\" ile 21 hastaya nakil yapıldı                                                                                                                                                 1\n",
       "Tercihler 16 Temmuz'da sona erecek. Peki                                                                                                                                                                1\n",
       "Yanıtı haberimizde...\"                                                                                                                                                                                  1\n",
       "Bu da hem çevreyi ve hem de sağlığı tehdit ediyor. Zira çöpe atılan ilaçlar suya ve toprağa karışarak sofralarımıza kadar geliyor.\"                                                                     1\n",
       "teşvik ve avantajlarla yerli ve küresel teknoloji yatırımlarını artırmayı hedeflediklerini söyledi.\"                                                                                                    1\n",
       "Bayraktar                                                                                                                                                                                               1\n",
       "Çünkü piyasadaki sahte tarçınlar sağlığı tehdit ediyor.                                                                                                                                                 1\n",
       "Bu ise kış döneminde aşılanmanın artmasına ve bireysel tedbirlere uyulmasına bağlı.\"                                                                                                                    1\n",
       "İşte uzmanından ailelere öneriler\"                                                                                                                                                                      1\n",
       "Kıraç ''Vatan Marşı'' isimli bestesine klip çekerek desteğini gösterirken                                                                                                                               1\n",
       "sahneleyecek.\"                                                                                                                                                                                          1\n",
       "Yapılan düzenleme onları da kapsıyor.\"                                                                                                                                                                  1\n",
       "Artık işe alım mülakatlarında da bu teknoloji kullanılıyor.                                                                                                                                             1\n",
       "Güney Kore'de bazı şirketler işe alacakları kişileri değerlendirmek için yapay zekadan yararlanmaya başladı.\"                                                                                           1\n",
       "TRT EBA TV’ye nasıl erişilir?\"                                                                                                                                                                          1\n",
       "Aslında yeme isteği açlık hormonunun dengesizliğinden kaynaklanıyor. Peki yeme isteğini bastırmak için neler yapılmalı?\"                                                                                1\n",
       "Kopenhag-Manchester United arasında oynanan şampiyonlar ligi karşılaşmasında bir taraftar sahaya indi                                                                                                   1\n",
       "Öğrenciler                                                                                                                                                                                              1\n",
       "Takvime uyulacak ve araçlar 29 Ekim'den itibaren teslim edilecek. Dijital cüzdanlarında AVAX olan kullanıcılar bunu çekebilecekleri gibi cüzdanlarında tutup açık arttırmaya katılabilecek.\"            1\n",
       "İlk kez izleyiciyle buluşan festivalde gösterimler                                                                                                                                                      1\n",
       "Uzmanlar ise karne notlarına aşırı tepki verilmemesi konusunda uyarıyor.\"                                                                                                                               1\n",
       "TÜİK veri takviminde ise işsizlik                                                                                                                                                                       1\n",
       "Sırası geldiği halde ikinci dozu yaptırmayanların sayısı da 17 milyon. Bu                                                                                                                               1\n",
       "Uzmanlara göre az miktarda cıva dahi zehirlenmeye neden olabiliyor. Peki cıva zehirlenmesinin belirtileri neler? Böyle bir durumla karşılaşınca ne yapılmalı?\"                                          1\n",
       "Başta Gençlik ve Spor Bakanı Osman Aşkın Bak olmak üzere                                                                                                                                                1\n",
       "Türkiye'nin savunma sanayindeki projeleri yabancı öğrencilere de ilham oldu. Kıyasıya yapılan yarışmalarda dereceye girenler için tören düzenlendi.\"                                                    1\n",
       "Dağlık Karabağ’da kullanılacak MEMATT’ların son testleri Bakü yakınlarında yapıldı. Eğitimi tamamlayan Azerbaycanlı askerlere sertifika verildi.\"                                                       1\n",
       "Sesiyle                                                                                                                                                                                                 1\n",
       "Türbinler                                                                                                                                                                                               1\n",
       "Ülkede şu ana kadar iki çocuk hayatını kaybetti. Geçen sene COVID-19 önlemleri sebebiyle sık rastlanmayan grip virüsünün önümüzdeki sezon daha ağır seyredebileceği belirtiliyor.\"                      1\n",
       "12'nci Kalkınma Planı ile Türkiye'nin 2053 vizyonu çizilecek.\"                                                                                                                                          1\n",
       "Cumhurbaşkanı Recep Tayyip Erdoğan tarafından 28 Aralık'ta açılışı yapılacak.\"                                                                                                                          1\n",
       "Farklı tarzlarda müzikal performansların sergileneceği etkinlik 9 Ekim’de son bulacak.\"                                                                                                                 1\n",
       "Teknoloji pazarındaki getirisi ne olacak?\"                                                                                                                                                              1\n",
       "Görev için öncelikle Mars'taki yaşamın 3 boyutlu simülasyonu tasarlandı. 4 kişilik mürettebat hazırlanan simülasyon ortamında                                                                           1\n",
       "TRT EBA TV online canlı yayın linkleri...\"                                                                                                                                                              1\n",
       "Hedef                                                                                                                                                                                                   1\n",
       "Peki nedir bu dijital ikiz teknolojisi                                                                                                                                                                  1\n",
       "Hedefler karşılık bulurken                                                                                                                                                                              1\n",
       "Ankara'daki bir firmanın patentini aldığı çift kanatlı türbinler                                                                                                                                        1\n",
       "Dünyanın yörüngesine ilk uçuşun                                                                                                                                                                         1\n",
       "Avrupa'da yapılan araştırmada                                                                                                                                                                           1\n",
       "İddiaya göre 500 binin üzerinde zoom kullanıcısının hesap bilgileri çalınarak satışa çıkarıldı.\"                                                                                                        1\n",
       "Arı alerjisinin en bilinen belirtileri arının soktuğu yer dışında şişlik veya vücut genelinde kızarıklık. Bu durumda yapılması gereken ise acilen hastaneye başvurmak.\"                                 1\n",
       "Yarışmada takımlar sanal bir şehrin enerji hatlarını ve bilişim altyapısını dijital ortamda ele geçirmeye çalışıyor.\"                                                                                   1\n",
       "Uluslararası kredi derecelendirme kuruluşu Moody’s                                                                                                                                                      1\n",
       "Bazı böbrek hastaları kadavradan                                                                                                                                                                        1\n",
       "TRT'nin kurumsal iş ortağı olduğu festivalde                                                                                                                                                            1\n",
       "Artık marka araçların yeni modelleri bazı özellikler olmadan üretilecek. Kısacası araç almak için sıraya giren müşteriler                                                                               1\n",
       "Name: count, dtype: int64"
      ]
     },
     "execution_count": 22,
     "metadata": {},
     "output_type": "execute_result"
    }
   ],
   "source": [
    "import pandas as pd\n",
    "pd.set_option('display.max_rows', None)  # Tüm satırları göster\n",
    "df.toPandas()['Kategori'].value_counts()"
   ]
  },
  {
   "cell_type": "code",
   "execution_count": 23,
   "metadata": {},
   "outputs": [
    {
     "data": {
      "text/plain": [
       "29861"
      ]
     },
     "execution_count": 23,
     "metadata": {},
     "output_type": "execute_result"
    }
   ],
   "source": [
    "df.count()"
   ]
  },
  {
   "cell_type": "code",
   "execution_count": 24,
   "metadata": {},
   "outputs": [
    {
     "data": {
      "text/plain": [
       "0"
      ]
     },
     "execution_count": 24,
     "metadata": {},
     "output_type": "execute_result"
    }
   ],
   "source": [
    "df.toPandas()['Kategori'].isnull().sum()"
   ]
  },
  {
   "cell_type": "code",
   "execution_count": 25,
   "metadata": {},
   "outputs": [
    {
     "data": {
      "text/plain": [
       "169"
      ]
     },
     "execution_count": 25,
     "metadata": {},
     "output_type": "execute_result"
    }
   ],
   "source": [
    "df.toPandas()['İçerik'].isnull().sum()\n"
   ]
  },
  {
   "cell_type": "code",
   "execution_count": 26,
   "metadata": {},
   "outputs": [
    {
     "data": {
      "text/plain": [
       "91"
      ]
     },
     "execution_count": 26,
     "metadata": {},
     "output_type": "execute_result"
    }
   ],
   "source": [
    "df.toPandas()['Başlık'].isnull().sum()"
   ]
  },
  {
   "cell_type": "code",
   "execution_count": 27,
   "metadata": {},
   "outputs": [],
   "source": [
    "df = df.dropna(subset=('İçerik'))\n",
    "df = df.dropna(subset=('Başlık'))"
   ]
  },
  {
   "cell_type": "code",
   "execution_count": 28,
   "metadata": {},
   "outputs": [
    {
     "data": {
      "text/plain": [
       "0"
      ]
     },
     "execution_count": 28,
     "metadata": {},
     "output_type": "execute_result"
    }
   ],
   "source": [
    "df.toPandas()['İçerik'].isnull().sum()\n"
   ]
  },
  {
   "cell_type": "code",
   "execution_count": 29,
   "metadata": {},
   "outputs": [
    {
     "data": {
      "text/plain": [
       "29692"
      ]
     },
     "execution_count": 29,
     "metadata": {},
     "output_type": "execute_result"
    }
   ],
   "source": [
    "df.count()"
   ]
  },
  {
   "cell_type": "code",
   "execution_count": 30,
   "metadata": {},
   "outputs": [],
   "source": [
    "from pyspark.sql.functions import col\n",
    "#filtered_df = df.filter(~col('Kategori').isin('DOSYA HABER'))\n"
   ]
  },
  {
   "cell_type": "code",
   "execution_count": 31,
   "metadata": {},
   "outputs": [],
   "source": [
    "#filtered_df.count()"
   ]
  },
  {
   "cell_type": "markdown",
   "metadata": {},
   "source": []
  },
  {
   "cell_type": "markdown",
   "metadata": {},
   "source": [
    "Feature Extraction"
   ]
  },
  {
   "cell_type": "code",
   "execution_count": 32,
   "metadata": {},
   "outputs": [],
   "source": [
    "import pyspark.ml.feature"
   ]
  },
  {
   "cell_type": "code",
   "execution_count": 33,
   "metadata": {},
   "outputs": [],
   "source": [
    "from pyspark.ml.feature import Tokenizer,StopWordsRemover,CountVectorizer,IDF\n",
    "from pyspark.ml.feature import StringIndexer"
   ]
  },
  {
   "cell_type": "code",
   "execution_count": 34,
   "metadata": {},
   "outputs": [],
   "source": [
    "tokenizer = Tokenizer(inputCol='İçerik',outputCol='mytokens')\n",
    "stopwords_remover = StopWordsRemover(inputCol='mytokens',outputCol='filtered_tokens')\n",
    "vectorizer = CountVectorizer(inputCol='filtered_tokens',outputCol='rawFeatures')\n",
    "idf = IDF(inputCol='rawFeatures',outputCol='vectorizedFeatures')"
   ]
  },
  {
   "cell_type": "code",
   "execution_count": 35,
   "metadata": {},
   "outputs": [],
   "source": [
    "labelEncoder = StringIndexer(inputCol='Kategori',outputCol='label').fit(df)"
   ]
  },
  {
   "cell_type": "code",
   "execution_count": 36,
   "metadata": {},
   "outputs": [
    {
     "name": "stdout",
     "output_type": "stream",
     "text": [
      "+---------------+--------------------+--------------------+-----+\n",
      "|       Kategori|              Başlık|              İçerik|label|\n",
      "+---------------+--------------------+--------------------+-----+\n",
      "|           Spor|Hakkarigücü Kadın...|Turkcell Kadın Fu...|  0.0|\n",
      "|Bilim Teknoloji|Uzay raporu: Mars...|Hakemli bilimsel ...|  5.0|\n",
      "|         Sağlık|Gaziantep Şehir H...|Gaziantep Şehir H...|  3.0|\n",
      "|         Sağlık|Türkiye sınırın d...|Fırat Kalkanı Har...|  3.0|\n",
      "|        Ekonomi|3,2 milyar liralı...|Aile ve Sosyal Hi...|  2.0|\n",
      "|           Spor|Gençler Kılıç Dün...|Eskrimde, Gençler...|  0.0|\n",
      "|         Sağlık|\"Gıda mühendisind...|\"Mutfakta yapılan...|  3.0|\n",
      "|           Spor|Michael Schumache...|Formula 1'in ünlü...|  0.0|\n",
      "|         Eğitim|\"Türkiye ile Güne...|Milli Eğitim Baka...|  1.0|\n",
      "|     ÖZEL HABER|7 Güzel Adam'ın b...|7 Güzel Adam'ın b...|  6.0|\n",
      "|         Sağlık|DSÖ, COVID-19'un ...|Dünya Sağlık Örgü...|  3.0|\n",
      "|           Spor|Kupada son çeyrek...|Ziraat Türkiye Ku...|  0.0|\n",
      "|         Eğitim|Meslek liselerind...|Milli Eğitim Baka...|  1.0|\n",
      "|   Kültür-Sanat|Dünyaca ünlü İngi...|Dünyaca ünlü İngi...|  4.0|\n",
      "|           Spor|Fenerbahçe 90+4’t...|Trendyol Süper Li...|  0.0|\n",
      "|        Ekonomi|Bakan Şimşek: KİT...|Hazine ve Maliye ...|  2.0|\n",
      "|Bilim Teknoloji|\"Salmonellayı tes...|\"Çanakkale Onseki...|  5.0|\n",
      "|           Spor|NBA'de gecenin to...|\"Amerikan Basketb...|  0.0|\n",
      "|           Spor|Yarım asırlık Mar...|Trendyol 1. Lig'i...|  0.0|\n",
      "|           Spor|Ajax galibiyeti h...|Tarihinin en başa...|  0.0|\n",
      "+---------------+--------------------+--------------------+-----+\n",
      "only showing top 20 rows\n",
      "\n"
     ]
    }
   ],
   "source": [
    "labelEncoder.transform(df).show()"
   ]
  },
  {
   "cell_type": "code",
   "execution_count": 37,
   "metadata": {},
   "outputs": [
    {
     "data": {
      "text/plain": [
       "['Spor',\n",
       " 'Eğitim',\n",
       " 'Ekonomi',\n",
       " 'Sağlık',\n",
       " 'Kültür-Sanat',\n",
       " 'Bilim Teknoloji',\n",
       " 'ÖZEL HABER',\n",
       " 'DOSYA HABER',\n",
       " 'Türkiye',\n",
       " 'Ardından televizyonlar',\n",
       " 'Artık marka araçların yeni modelleri bazı özellikler olmadan üretilecek. Kısacası araç almak için sıraya giren müşteriler',\n",
       " \"Avrupa'da yapılan araştırmada\",\n",
       " 'Açıklanan son haftalık haritada',\n",
       " 'Bu dönemde',\n",
       " \"Bugün Yükseköğretim Kurumları Sınavı'nın ilk oturumu\",\n",
       " 'Denemeleri başarılı olmadı belki',\n",
       " 'Deneyler',\n",
       " 'Dizinin galası',\n",
       " 'Dünya Müzikleri Topluluğunu kurdu',\n",
       " 'Finansal istikrarı güçlendirici adımlar hayata geçiriliyor. Banka',\n",
       " 'Haritada çarpma havzaları',\n",
       " 'Hedefler karşılık bulurken',\n",
       " 'Kripto paralar yatırımlara',\n",
       " \"Kıraç ''Vatan Marşı'' isimli bestesine klip çekerek desteğini gösterirken\",\n",
       " 'Müzede',\n",
       " 'NASA’nın uzay aracı Parker',\n",
       " 'Peki nedir bu dijital ikiz teknolojisi',\n",
       " 'Sanayi ve Teknoloji Bakanı Mehmet Fatih Kacır',\n",
       " 'Selçuklulardan kalma mezar taşları',\n",
       " 'Sesiyle',\n",
       " 'Yeni açıklanan eylül ayı enflasyon verilerinin ardından',\n",
       " 'Öğrenciler']"
      ]
     },
     "execution_count": 37,
     "metadata": {},
     "output_type": "execute_result"
    }
   ],
   "source": [
    "labelEncoder.labels"
   ]
  },
  {
   "cell_type": "code",
   "execution_count": 38,
   "metadata": {},
   "outputs": [],
   "source": [
    "label_dict = {\n",
    " 'Spor':0.0 ,\n",
    " 'Ekonomi':1.0,\n",
    " 'Eğitim':2.0,\n",
    " 'Sağlık':3.0,\n",
    " 'Bilim Teknoloji':4.0,\n",
    " 'Kültür-Sanat':5.0,\n",
    " #'cevre':7.0\n",
    "}"
   ]
  },
  {
   "cell_type": "code",
   "execution_count": 39,
   "metadata": {},
   "outputs": [
    {
     "name": "stdout",
     "output_type": "stream",
     "text": [
      "+---------------+--------------------+--------------------+\n",
      "|       Kategori|              Başlık|              İçerik|\n",
      "+---------------+--------------------+--------------------+\n",
      "|           Spor|Hakkarigücü Kadın...|Turkcell Kadın Fu...|\n",
      "|Bilim Teknoloji|Uzay raporu: Mars...|Hakemli bilimsel ...|\n",
      "|         Sağlık|Gaziantep Şehir H...|Gaziantep Şehir H...|\n",
      "|         Sağlık|Türkiye sınırın d...|Fırat Kalkanı Har...|\n",
      "|        Ekonomi|3,2 milyar liralı...|Aile ve Sosyal Hi...|\n",
      "|           Spor|Gençler Kılıç Dün...|Eskrimde, Gençler...|\n",
      "|         Sağlık|\"Gıda mühendisind...|\"Mutfakta yapılan...|\n",
      "|           Spor|Michael Schumache...|Formula 1'in ünlü...|\n",
      "|         Eğitim|\"Türkiye ile Güne...|Milli Eğitim Baka...|\n",
      "|     ÖZEL HABER|7 Güzel Adam'ın b...|7 Güzel Adam'ın b...|\n",
      "|         Sağlık|DSÖ, COVID-19'un ...|Dünya Sağlık Örgü...|\n",
      "|           Spor|Kupada son çeyrek...|Ziraat Türkiye Ku...|\n",
      "|         Eğitim|Meslek liselerind...|Milli Eğitim Baka...|\n",
      "|   Kültür-Sanat|Dünyaca ünlü İngi...|Dünyaca ünlü İngi...|\n",
      "|           Spor|Fenerbahçe 90+4’t...|Trendyol Süper Li...|\n",
      "|        Ekonomi|Bakan Şimşek: KİT...|Hazine ve Maliye ...|\n",
      "|Bilim Teknoloji|\"Salmonellayı tes...|\"Çanakkale Onseki...|\n",
      "|           Spor|NBA'de gecenin to...|\"Amerikan Basketb...|\n",
      "|           Spor|Yarım asırlık Mar...|Trendyol 1. Lig'i...|\n",
      "|           Spor|Ajax galibiyeti h...|Tarihinin en başa...|\n",
      "+---------------+--------------------+--------------------+\n",
      "only showing top 20 rows\n",
      "\n"
     ]
    },
    {
     "data": {
      "text/plain": [
       "29692"
      ]
     },
     "execution_count": 39,
     "metadata": {},
     "output_type": "execute_result"
    }
   ],
   "source": [
    "df.show()\n",
    "df.count()"
   ]
  },
  {
   "cell_type": "code",
   "execution_count": 40,
   "metadata": {},
   "outputs": [],
   "source": [
    "df = labelEncoder.transform(df)"
   ]
  },
  {
   "cell_type": "code",
   "execution_count": 41,
   "metadata": {},
   "outputs": [
    {
     "name": "stdout",
     "output_type": "stream",
     "text": [
      "+---------------+--------------------+--------------------+-----+\n",
      "|       Kategori|              Başlık|              İçerik|label|\n",
      "+---------------+--------------------+--------------------+-----+\n",
      "|           Spor|Hakkarigücü Kadın...|Turkcell Kadın Fu...|  0.0|\n",
      "|Bilim Teknoloji|Uzay raporu: Mars...|Hakemli bilimsel ...|  5.0|\n",
      "|         Sağlık|Gaziantep Şehir H...|Gaziantep Şehir H...|  3.0|\n",
      "|         Sağlık|Türkiye sınırın d...|Fırat Kalkanı Har...|  3.0|\n",
      "|        Ekonomi|3,2 milyar liralı...|Aile ve Sosyal Hi...|  2.0|\n",
      "|           Spor|Gençler Kılıç Dün...|Eskrimde, Gençler...|  0.0|\n",
      "|         Sağlık|\"Gıda mühendisind...|\"Mutfakta yapılan...|  3.0|\n",
      "|           Spor|Michael Schumache...|Formula 1'in ünlü...|  0.0|\n",
      "|         Eğitim|\"Türkiye ile Güne...|Milli Eğitim Baka...|  1.0|\n",
      "|     ÖZEL HABER|7 Güzel Adam'ın b...|7 Güzel Adam'ın b...|  6.0|\n",
      "|         Sağlık|DSÖ, COVID-19'un ...|Dünya Sağlık Örgü...|  3.0|\n",
      "|           Spor|Kupada son çeyrek...|Ziraat Türkiye Ku...|  0.0|\n",
      "|         Eğitim|Meslek liselerind...|Milli Eğitim Baka...|  1.0|\n",
      "|   Kültür-Sanat|Dünyaca ünlü İngi...|Dünyaca ünlü İngi...|  4.0|\n",
      "|           Spor|Fenerbahçe 90+4’t...|Trendyol Süper Li...|  0.0|\n",
      "|        Ekonomi|Bakan Şimşek: KİT...|Hazine ve Maliye ...|  2.0|\n",
      "|Bilim Teknoloji|\"Salmonellayı tes...|\"Çanakkale Onseki...|  5.0|\n",
      "|           Spor|NBA'de gecenin to...|\"Amerikan Basketb...|  0.0|\n",
      "|           Spor|Yarım asırlık Mar...|Trendyol 1. Lig'i...|  0.0|\n",
      "|           Spor|Ajax galibiyeti h...|Tarihinin en başa...|  0.0|\n",
      "+---------------+--------------------+--------------------+-----+\n",
      "only showing top 20 rows\n",
      "\n"
     ]
    }
   ],
   "source": [
    "df.show()"
   ]
  },
  {
   "cell_type": "code",
   "execution_count": 42,
   "metadata": {},
   "outputs": [],
   "source": [
    "(trainDF,testDF) = df.randomSplit((0.8,0.2),seed=42)"
   ]
  },
  {
   "cell_type": "code",
   "execution_count": 43,
   "metadata": {},
   "outputs": [
    {
     "name": "stdout",
     "output_type": "stream",
     "text": [
      "+--------------------+--------------------+--------------------+-----+\n",
      "|            Kategori|              Başlık|              İçerik|label|\n",
      "+--------------------+--------------------+--------------------+-----+\n",
      "|Ardından televizy...| bundan 39 yıl ön...| Yayıncılık Müzes...|  9.0|\n",
      "|Avrupa'da yapılan...| düzenli olarak k...| sürekli kahve iç...| 11.0|\n",
      "|     Bilim Teknoloji|\"\"\"1 milyon yazıl...|\"Cumhurbaşkanı Re...|  5.0|\n",
      "|     Bilim Teknoloji|\"\"\"100 bin dolara...|\"NASA JPL öncü mü...|  5.0|\n",
      "|     Bilim Teknoloji|\"\"\"20'li yaşlar c...|\"Ulaştırma ve Alt...|  5.0|\n",
      "|     Bilim Teknoloji|\"\"\"Aile Destek\"\" ...|\"Sosyal hizmet ve...|  5.0|\n",
      "|     Bilim Teknoloji|\"\"\"Ateş çemberi\"\"...|2019 yılının son ...|  5.0|\n",
      "|     Bilim Teknoloji|\"\"\"Ateş Şövalyesi...|Ormanın yumuşak d...|  5.0|\n",
      "|     Bilim Teknoloji|\"\"\"BBC 100 Kadın ...|\"Sabancı Üniversi...|  5.0|\n",
      "|     Bilim Teknoloji|\"\"\"Bir Adam Yarat...|\"Beyoğlu Kültür Y...|  5.0|\n",
      "|     Bilim Teknoloji|\"\"\"Cep\"\"te dayanı...|Bilgi Teknolojile...|  5.0|\n",
      "|     Bilim Teknoloji|\"\"\"Cep\"\"ten inter...|Mobil cepten inte...|  5.0|\n",
      "|     Bilim Teknoloji|\"\"\"Cezeri'nin Ola...|\"Diyarbakır'da El...|  5.0|\n",
      "|     Bilim Teknoloji|  \"\"\"Deprem Fatihi\"\"| depremin etkisin...|  5.0|\n",
      "|     Bilim Teknoloji|\"\"\"Derman\"\" envan...|Türk Silahlı Kuvv...|  5.0|\n",
      "|     Bilim Teknoloji|\"\"\"Geleceğin aske...|Bu yıl sahada kul...|  5.0|\n",
      "|     Bilim Teknoloji|\"\"\"Gezegenin Kara...|\"Sanayi ve Teknol...|  5.0|\n",
      "|     Bilim Teknoloji|\"\"\"KMC Silah Sist...|Roketsan'ın geliş...|  5.0|\n",
      "|     Bilim Teknoloji|\"\"\"Metaverse\"\" dü...|\"Gelişen teknoloj...|  5.0|\n",
      "|     Bilim Teknoloji|\"\"\"Mobil Bilim Me...|\"Fen bilimleri öğ...|  5.0|\n",
      "+--------------------+--------------------+--------------------+-----+\n",
      "only showing top 20 rows\n",
      "\n"
     ]
    }
   ],
   "source": [
    "trainDF.show()"
   ]
  },
  {
   "cell_type": "code",
   "execution_count": 44,
   "metadata": {},
   "outputs": [],
   "source": [
    "from pyspark.ml.classification import LogisticRegression"
   ]
  },
  {
   "cell_type": "code",
   "execution_count": 45,
   "metadata": {},
   "outputs": [],
   "source": [
    "lr = LogisticRegression(featuresCol='vectorizedFeatures',labelCol='label')"
   ]
  },
  {
   "cell_type": "code",
   "execution_count": 46,
   "metadata": {},
   "outputs": [],
   "source": [
    "from pyspark.ml import Pipeline"
   ]
  },
  {
   "cell_type": "code",
   "execution_count": 47,
   "metadata": {},
   "outputs": [],
   "source": [
    "pipeline = Pipeline(stages=[tokenizer,stopwords_remover,vectorizer,idf,lr])"
   ]
  },
  {
   "cell_type": "code",
   "execution_count": 48,
   "metadata": {},
   "outputs": [
    {
     "data": {
      "text/plain": [
       "Pipeline_2f2876eb08e6"
      ]
     },
     "execution_count": 48,
     "metadata": {},
     "output_type": "execute_result"
    }
   ],
   "source": [
    "pipeline"
   ]
  },
  {
   "cell_type": "code",
   "execution_count": 49,
   "metadata": {},
   "outputs": [
    {
     "data": {
      "text/plain": [
       "Param(parent='Pipeline_2f2876eb08e6', name='stages', doc='a list of pipeline stages')"
      ]
     },
     "execution_count": 49,
     "metadata": {},
     "output_type": "execute_result"
    }
   ],
   "source": [
    "pipeline.stages"
   ]
  },
  {
   "cell_type": "code",
   "execution_count": 50,
   "metadata": {},
   "outputs": [],
   "source": [
    "lr_model = pipeline.fit(trainDF)#1m 7.9s"
   ]
  },
  {
   "cell_type": "code",
   "execution_count": 51,
   "metadata": {},
   "outputs": [
    {
     "data": {
      "text/plain": [
       "PipelineModel_ea7ae92e7df3"
      ]
     },
     "execution_count": 51,
     "metadata": {},
     "output_type": "execute_result"
    }
   ],
   "source": [
    "lr_model"
   ]
  },
  {
   "cell_type": "code",
   "execution_count": 52,
   "metadata": {},
   "outputs": [],
   "source": [
    "predictions = lr_model.transform(testDF)"
   ]
  },
  {
   "cell_type": "code",
   "execution_count": 53,
   "metadata": {},
   "outputs": [
    {
     "name": "stdout",
     "output_type": "stream",
     "text": [
      "+--------------------+--------------------+--------------------+-----+--------------------+--------------------+--------------------+--------------------+--------------------+--------------------+----------+\n",
      "|            Kategori|              Başlık|              İçerik|label|            mytokens|     filtered_tokens|         rawFeatures|  vectorizedFeatures|       rawPrediction|         probability|prediction|\n",
      "+--------------------+--------------------+--------------------+-----+--------------------+--------------------+--------------------+--------------------+--------------------+--------------------+----------+\n",
      "|Açıklanan son haf...| 68 ilde vaka say...| Ankara ve İzmir’...| 12.0|[, ankara, ve, iz...|[, ankara, ve, iz...|(69721,[0,20,198,...|(69721,[0,20,198,...|[-8.7673890039219...|[3.42965843126392...|       4.0|\n",
      "|     Bilim Teknoloji|\"\"\"2021 savunma s...|\"Yerli ve milli s...|  5.0|[\"yerli, ve, mill...|[\"yerli, ve, mill...|(69721,[0,1,5,7,1...|(69721,[0,1,5,7,1...|[-3.2027304190674...|[1.28031156538074...|       5.0|\n",
      "|     Bilim Teknoloji|\"\"\"Aksungur Yunan...|TUSAŞ Genel Müdür...|  5.0|[tusaş, genel, mü...|[tusaş, genel, mü...|(69721,[0,1,8,11,...|(69721,[0,1,8,11,...|[-31.503056069095...|[2.12619438758917...|       5.0|\n",
      "|     Bilim Teknoloji|\"\"\"Böcek İHA\"\"lar...|Böceklerden ilham...|  5.0|[böceklerden, ilh...|[böceklerden, ilh...|(69721,[8,88,113,...|(69721,[8,88,113,...|[-24.819585238591...|[3.47109795941216...|       5.0|\n",
      "|     Bilim Teknoloji|\"\"\"En yaşlı kara ...|\"Gök bilimciler, ...|  5.0|[\"gök, bilimciler...|[\"gök, bilimciler...|(69721,[24,93,422...|(69721,[24,93,422...|[-16.278093807331...|[1.25787609518740...|       5.0|\n",
      "|     Bilim Teknoloji|\"\"\"Mekanik Mayın ...|\"Milli Savunma Ba...|  5.0|[\"milli, savunma,...|[\"milli, savunma,...|(69721,[0,26,52,6...|(69721,[0,26,52,6...|[-19.556413447195...|[4.64274929249533...|       5.0|\n",
      "|     Bilim Teknoloji|\"\"\"Sifon çekmek C...|Yapılan bir araşt...|  5.0|[yapılan, bir, ar...|[yapılan, bir, ar...|(69721,[1,11,49,9...|(69721,[1,11,49,9...|[-13.545048356306...|[1.51839682243025...|       3.0|\n",
      "|     Bilim Teknoloji|\"\"\"Take Off İstan...|TEKNOFEST Havacıl...|  5.0|[teknofest, havac...|[teknofest, havac...|(69721,[0,1,3,5,1...|(69721,[0,1,3,5,1...|[-6.3871186105453...|[1.35875502582184...|       5.0|\n",
      "|     Bilim Teknoloji|\"\"\"Şampiyonlar Li...|UEFA Şampiyonlar ...|  5.0|[uefa, şampiyonla...|[uefa, şampiyonla...|(69721,[0,81,142,...|(69721,[0,81,142,...|[81.0084209957655...|[1.0,1.3647159052...|       0.0|\n",
      "|     Bilim Teknoloji|\"AB tüketici grup...|Avrupa Tüketici B...|  5.0|[avrupa, tüketici...|[avrupa, tüketici...|(69721,[37,44,66,...|(69721,[37,44,66,...|[-8.5411827333047...|[2.50387368380317...|       5.0|\n",
      "|     Bilim Teknoloji|\"AB'den \"\"yapay z...|Avrupa Birliği (A...|  5.0|[avrupa, birliği,...|[avrupa, birliği,...|(69721,[0,26,44,4...|(69721,[0,26,44,4...|[-10.106753301053...|[7.42768724747063...|       5.0|\n",
      "|     Bilim Teknoloji|\"ABD'deki 2020 se...|New York Üniversi...|  5.0|[new, york, ünive...|[new, york, ünive...|(69721,[0,1,26,39...|(69721,[0,1,26,39...|[-7.7144513982644...|[5.42465687482532...|       5.0|\n",
      "|     Bilim Teknoloji|\"ABD, casus uydus...|\"ABD, \"\"NROL-82\"\"...|  5.0|[\"abd,, \"\"nrol-82...|[\"abd,, \"\"nrol-82...|(69721,[103,544,6...|(69721,[103,544,6...|[-16.025444171562...|[1.86511044927591...|       5.0|\n",
      "|     Bilim Teknoloji|\"Adıyaman'ın elek...|Adıyaman Üniversi...|  5.0|[adıyaman, üniver...|[adıyaman, üniver...|(69721,[3,26,69,1...|(69721,[3,26,69,1...|[2.54580971300923...|[7.72071334707782...|       3.0|\n",
      "|     Bilim Teknoloji|\"Arıcılara \"\"itha...|Son dönemde mevsi...|  5.0|[son, dönemde, me...|[son, dönemde, me...|(69721,[5,18,22,6...|(69721,[5,18,22,6...|[-22.067933037267...|[3.36557648693503...|       2.0|\n",
      "|     Bilim Teknoloji|\"Avustralya'dan i...|Avustralya İletiş...|  5.0|[avustralya, ilet...|[avustralya, ilet...|(69721,[0,1,11,14...|(69721,[0,1,11,14...|[-15.866684657884...|[1.73475069523117...|       5.0|\n",
      "|     Bilim Teknoloji|\"Belçikalı astron...|\"Belçikalı bilim ...|  5.0|[\"belçikalı, bili...|[\"belçikalı, bili...|(69721,[2,47,115,...|(69721,[2,47,115,...|[2.74387010773770...|[3.74427987835847...|       3.0|\n",
      "|     Bilim Teknoloji|\"Fenomenlerin faa...|\"Kitleleri etkile...|  5.0|[\"kitleleri, etki...|[\"kitleleri, etki...|(69721,[0,21,1065...|(69721,[0,21,1065...|[-3.8256316383728...|[2.30657443051012...|       5.0|\n",
      "|     Bilim Teknoloji|\"Liseli genç tasa...|Tokat'ya yaşayan ...|  5.0|[tokat'ya, yaşaya...|[tokat'ya, yaşaya...|(69721,[2,151,359...|(69721,[2,151,359...|[-5.2379930242698...|[1.65309221413568...|       5.0|\n",
      "|     Bilim Teknoloji|\"Meslek lisesinde...|Milli Eğitim Baka...|  5.0|[milli, eğitim, b...|[milli, eğitim, b...|(69721,[2,3,4,7,1...|(69721,[2,3,4,7,1...|[-18.196026593093...|[4.62922463735967...|       3.0|\n",
      "+--------------------+--------------------+--------------------+-----+--------------------+--------------------+--------------------+--------------------+--------------------+--------------------+----------+\n",
      "only showing top 20 rows\n",
      "\n"
     ]
    }
   ],
   "source": [
    "predictions.show()"
   ]
  },
  {
   "cell_type": "code",
   "execution_count": 54,
   "metadata": {},
   "outputs": [
    {
     "data": {
      "text/plain": [
       "['Kategori',\n",
       " 'Başlık',\n",
       " 'İçerik',\n",
       " 'label',\n",
       " 'mytokens',\n",
       " 'filtered_tokens',\n",
       " 'rawFeatures',\n",
       " 'vectorizedFeatures',\n",
       " 'rawPrediction',\n",
       " 'probability',\n",
       " 'prediction']"
      ]
     },
     "execution_count": 54,
     "metadata": {},
     "output_type": "execute_result"
    }
   ],
   "source": [
    "predictions.columns"
   ]
  },
  {
   "cell_type": "code",
   "execution_count": 55,
   "metadata": {},
   "outputs": [
    {
     "name": "stdout",
     "output_type": "stream",
     "text": [
      "+--------------------+--------------------+--------------------+-----+----------+\n",
      "|       rawPrediction|         probability|            Kategori|label|prediction|\n",
      "+--------------------+--------------------+--------------------+-----+----------+\n",
      "|[-8.7673890039219...|[3.42965843126392...|Açıklanan son haf...| 12.0|       4.0|\n",
      "|[-3.2027304190674...|[1.28031156538074...|     Bilim Teknoloji|  5.0|       5.0|\n",
      "|[-31.503056069095...|[2.12619438758917...|     Bilim Teknoloji|  5.0|       5.0|\n",
      "|[-24.819585238591...|[3.47109795941216...|     Bilim Teknoloji|  5.0|       5.0|\n",
      "|[-16.278093807331...|[1.25787609518740...|     Bilim Teknoloji|  5.0|       5.0|\n",
      "|[-19.556413447195...|[4.64274929249533...|     Bilim Teknoloji|  5.0|       5.0|\n",
      "|[-13.545048356306...|[1.51839682243025...|     Bilim Teknoloji|  5.0|       3.0|\n",
      "|[-6.3871186105453...|[1.35875502582184...|     Bilim Teknoloji|  5.0|       5.0|\n",
      "|[81.0084209957655...|[1.0,1.3647159052...|     Bilim Teknoloji|  5.0|       0.0|\n",
      "|[-8.5411827333047...|[2.50387368380317...|     Bilim Teknoloji|  5.0|       5.0|\n",
      "+--------------------+--------------------+--------------------+-----+----------+\n",
      "only showing top 10 rows\n",
      "\n"
     ]
    }
   ],
   "source": [
    "\n",
    "predictions.select('rawPrediction','probability','Kategori','label','prediction').show(10)"
   ]
  },
  {
   "cell_type": "code",
   "execution_count": 56,
   "metadata": {},
   "outputs": [],
   "source": [
    "from pyspark.ml.evaluation import MulticlassClassificationEvaluator"
   ]
  },
  {
   "cell_type": "code",
   "execution_count": 57,
   "metadata": {},
   "outputs": [],
   "source": [
    "evaluator = MulticlassClassificationEvaluator(labelCol='label',predictionCol='prediction',metricName='accuracy')"
   ]
  },
  {
   "cell_type": "code",
   "execution_count": 58,
   "metadata": {},
   "outputs": [],
   "source": [
    "accuracy = evaluator.evaluate(predictions)"
   ]
  },
  {
   "cell_type": "code",
   "execution_count": 59,
   "metadata": {},
   "outputs": [
    {
     "data": {
      "text/plain": [
       "0.8515611670363419"
      ]
     },
     "execution_count": 59,
     "metadata": {},
     "output_type": "execute_result"
    }
   ],
   "source": [
    "accuracy # başlık : 79.6  \\|/ içerik : 85.15 "
   ]
  },
  {
   "cell_type": "markdown",
   "metadata": {},
   "source": [
    "Test Edelim"
   ]
  },
  {
   "cell_type": "code",
   "execution_count": 60,
   "metadata": {},
   "outputs": [
    {
     "data": {
      "text/plain": [
       "list"
      ]
     },
     "execution_count": 60,
     "metadata": {},
     "output_type": "execute_result"
    }
   ],
   "source": [
    "from pyspark.sql import Row\n",
    "\n",
    "data = [\n",
    "    Row(Başlık=\"Bakan Mehmet Şimşek'ten 'enflasyon' açıklaması: Mayıs ayında en yüksek seviyeye ulaşacak\", İçerik=\"Hazine ve Maliye Bakanı Mehmet Şimşek, enflasyon ile ilgili, \\\"Mayıs ayında yıllık enflasyonun en yüksek seviyesine ulaştıktan sonra yılın kalan döneminde hızla gerilemesini bekliyoruz\\\" değerlendirmesini yaptı.\")\n",
    "]\n",
    "\n",
    "\n",
    "type(data)"
   ]
  },
  {
   "cell_type": "code",
   "execution_count": 61,
   "metadata": {},
   "outputs": [],
   "source": [
    "\n",
    "biz_test_df = spark.createDataFrame(data)\n",
    "#test_df.show()"
   ]
  },
  {
   "cell_type": "code",
   "execution_count": 62,
   "metadata": {},
   "outputs": [
    {
     "name": "stdout",
     "output_type": "stream",
     "text": [
      "['Başlık', 'İçerik', 'mytokens', 'filtered_tokens', 'rawFeatures', 'vectorizedFeatures', 'rawPrediction', 'probability', 'prediction']\n"
     ]
    }
   ],
   "source": [
    "predictions = lr_model.transform(biz_test_df)\n",
    "print(predictions.columns)"
   ]
  },
  {
   "cell_type": "code",
   "execution_count": 65,
   "metadata": {},
   "outputs": [],
   "source": [
    "#predictions.collect()\n",
    "#predictions.show()"
   ]
  },
  {
   "cell_type": "code",
   "execution_count": 1,
   "metadata": {},
   "outputs": [],
   "source": [
    "import pandas as pd\n",
    "from pymongo import MongoClient\n",
    "\n",
    "client = MongoClient('mongodb://localhost:27017/')\n",
    "db = client['kategorilenmisVeri'] "
   ]
  },
  {
   "cell_type": "code",
   "execution_count": 8,
   "metadata": {},
   "outputs": [],
   "source": [
    "kategoriler = {\n",
    "    'bilim-teknoloji': 'bilim-teknoloji.csv',\n",
    "    'cevre': 'cevre.csv',\n",
    "    'saglik': 'saglik.csv',\n",
    "    'spor': 'spor.csv',\n",
    "    'kultur-sanat': 'kultur-sanat.csv',\n",
    "    'ekonomi': 'ekonomi.csv',\n",
    "    'egitim': 'egitim.csv'\n",
    "}"
   ]
  },
  {
   "cell_type": "code",
   "execution_count": 9,
   "metadata": {},
   "outputs": [],
   "source": [
    "for kategori, dosya_adi in kategoriler.items():\n",
    "    collection = db[kategori] \n",
    "\n",
    "    df = pd.read_csv(dosya_adi)\n",
    "\n",
    "    for index, row in df.iterrows():\n",
    "        data = row.to_dict()\n",
    "        collection.insert_one(data)"
   ]
  }
 ],
 "metadata": {
  "kernelspec": {
   "display_name": "Python 3",
   "language": "python",
   "name": "python3"
  },
  "language_info": {
   "codemirror_mode": {
    "name": "ipython",
    "version": 3
   },
   "file_extension": ".py",
   "mimetype": "text/x-python",
   "name": "python",
   "nbconvert_exporter": "python",
   "pygments_lexer": "ipython3",
   "version": "3.12.0"
  }
 },
 "nbformat": 4,
 "nbformat_minor": 2
}
